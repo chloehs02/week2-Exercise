{
 "cells": [
  {
   "cell_type": "markdown",
   "id": "a18ac3e8",
   "metadata": {},
   "source": [
    "# Exercise"
   ]
  },
  {
   "cell_type": "code",
   "execution_count": 15,
   "id": "defc21fc",
   "metadata": {},
   "outputs": [
    {
     "name": "stdout",
     "output_type": "stream",
     "text": [
      "[0 1 2 3 4 5 6 7 8 9]\n",
      "[ 0  1  2  3 25 25 25  7  8  9]\n"
     ]
    }
   ],
   "source": [
    "import numpy as np\n",
    "my_arr = np.arange(10)\n",
    "print(my_arr)\n",
    "my_arr[4:7] = 25\n",
    "print(my_arr)\n",
    "arr_slice = my_arr[4:7]"
   ]
  },
  {
   "cell_type": "code",
   "execution_count": 16,
   "id": "83ecbe15",
   "metadata": {},
   "outputs": [
    {
     "name": "stdout",
     "output_type": "stream",
     "text": [
      "[-1 25 25]\n",
      "[ 0  1  2  3 -1 25 25  7  8  9]\n"
     ]
    }
   ],
   "source": [
    "# Change the first element of arr_slice to -1\n",
    "arr_slice[0]= -1\n",
    "\n",
    "print(arr_slice)\n",
    "print(my_arr)"
   ]
  },
  {
   "cell_type": "code",
   "execution_count": 38,
   "id": "06c2f419",
   "metadata": {},
   "outputs": [
    {
     "name": "stdout",
     "output_type": "stream",
     "text": [
      "[0 1 2 3 4 5 6 7 8 9]\n",
      "[ 0  1  2  3 25 25 25  7  8  9]\n",
      "[-1 25 25]\n",
      "[ 0  1  2  3 25 25 25  7  8  9]\n"
     ]
    }
   ],
   "source": [
    "import numpy as np\n",
    "\n",
    "my_arr = np.arange(10)\n",
    "print(my_arr)  # [0 1 2 3 4 5 6 7 8 9]\n",
    "\n",
    "my_arr[4:7] = 25\n",
    "print(my_arr)  # [ 0  1  2  3 25 25 25  7  8  9]\n",
    "\n",
    "arr_slice = my_arr[4:7].copy()\n",
    "arr_slice[0] = -1\n",
    "\n",
    "print(arr_slice)  # [-1 25 25]\n",
    "print(my_arr)  # [ 0  1  2  3 25 25 25  7  8  9]"
   ]
  },
  {
   "cell_type": "code",
   "execution_count": 5,
   "id": "a51a2f99",
   "metadata": {},
   "outputs": [
    {
     "data": {
      "image/png": "[encoded data removed]",
      "text/plain": [
       "<Figure size 640x480 with 1 Axes>"
      ]
     },
     "metadata": {},
     "output_type": "display_data"
    }
   ],
   "source": [
    "import numpy as np\n",
    "import matplotlib.pyplot as plt\n",
    "\n",
    "# Set the dimensions of the image\n",
    "image_width = 150\n",
    "image_height = 150\n",
    "\n",
    "# Create an empty image with all black pixels\n",
    "image = np.zeros((image_height, image_width))\n",
    "\n",
    "# Set the center coordinates of the circular spot\n",
    "center_x = image_width // 2\n",
    "center_y = image_height // 2\n",
    "\n",
    "# Set the radius of the circular spot\n",
    "radius = min(image_width, image_height) // 4\n",
    "\n",
    "# Set the intensity value for the white color\n",
    "white_intensity = 255\n",
    "\n",
    "# Draw a white circular spot in the middle of the image\n",
    "for i in range(image_height):\n",
    "    for j in range(image_width):\n",
    "        if (i - center_y) ** 2 + (j - center_x) ** 2 <= radius ** 2:\n",
    "            image[i, j] = white_intensity\n",
    "\n",
    "# Display the image\n",
    "plt.imshow(image, cmap='gray')\n",
    "plt.axis('off')\n",
    "plt.show()"
   ]
  },
  {
   "cell_type": "code",
   "execution_count": null,
   "id": "d091f808",
   "metadata": {},
   "outputs": [],
   "source": []
  },
  {
   "cell_type": "code",
   "execution_count": null,
   "id": "5ab0aa03",
   "metadata": {},
   "outputs": [],
   "source": []
  }
 ],
 "metadata": {
  "kernelspec": {
   "display_name": "Python 3 (ipykernel)",
   "language": "python",
   "name": "python3"
  },
  "language_info": {
   "codemirror_mode": {
    "name": "ipython",
    "version": 3
   },
   "file_extension": ".py",
   "mimetype": "text/x-python",
   "name": "python",
   "nbconvert_exporter": "python",
   "pygments_lexer": "ipython3",
   "version": "3.10.9"
  }
 },
 "nbformat": 4,
 "nbformat_minor": 5
}
